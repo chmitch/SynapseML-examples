{
  "cells": [
    {
      "cell_type": "markdown",
      "source": [
        "# ** Basic Cognitive Services Examples **\r\n",
        "\r\n",
        "This set of examples is intended to illustrate the basics of calling the various cognitive serices apis via the SynapseML libraries.  These samples are intended to be functional with minimal external dependencies therefore they typically work on extremely small data sets and to not load external files except where absolutely necessary (ie. images).\r\n",
        "\r\n",
        "The majority of these examples are taken from the Synapse ML examples: https://microsoft.github.io/SynapseML/docs/documentation/transformers/transformers_cognitive/ \r\n",
        "They have been modified slightly to account for pulling keys from key vault, and also to beautify the results and make them easier to read when executing in a jupyter notebook.  They are included here for the sake of completeness and also  \r\n",
        "\r\n",
        "Several of the APIs illustrated in these examples will be illustrated in greater detail on other examples with larger datasets and leveraging external files.\r\n",
        "\r\n",
        "## ***Prerequisites ***\r\n",
        "\r\n",
        "1. A provisioned Synapse Workspace with a Spark 3.1 pool to run this notbook on.\r\n",
        "1. A keyvault to store the cognitive services key necessary for executing these examples.\r\n",
        "1. A provisioined cognitive services multi-endpont api instance.\r\n",
        "\r\n",
        "## *** Setup ***\r\n",
        "\r\n",
        "This first part is necessary to setup the cluster to leverage the SynapseML libraries which are loaded from Maven coordinates."
      ],
      "metadata": {
        "nteract": {
          "transient": {
            "deleting": false
          }
        }
      }
    },
    {
      "cell_type": "code",
      "source": [
        "%%configure -f\r\n",
        "{\r\n",
        "  \"name\": \"synapseml\",\r\n",
        "  \"conf\": {\r\n",
        "      \"spark.jars.packages\": \"com.microsoft.azure:synapseml_2.12:0.9.5-13-d1b51517-SNAPSHOT\",\r\n",
        "      \"spark.jars.repositories\": \"https://mmlspark.azureedge.net/maven\",\r\n",
        "      \"spark.jars.excludes\": \"org.scala-lang:scala-reflect,org.apache.spark:spark-tags_2.12,org.scalactic:scalactic_2.12,org.scalatest:scalatest_2.12\",\r\n",
        "      \"spark.yarn.user.classpath.first\": \"true\"\r\n",
        "  }\r\n",
        "}"
      ],
      "outputs": [
        {
          "output_type": "display_data",
          "data": {
            "application/vnd.livy.statement-meta+json": {
              "spark_pool": null,
              "session_id": 27,
              "statement_id": -1,
              "state": "finished",
              "livy_statement_state": "available",
              "queued_time": "2022-02-25T14:07:43.3472257Z",
              "session_start_time": "2022-02-25T14:07:43.6558642Z",
              "execution_start_time": "2022-02-25T14:11:18.6687003Z",
              "execution_finish_time": "2022-02-25T14:11:18.6691225Z"
            },
            "text/plain": "StatementMeta(, 27, -1, Finished, Available)"
          },
          "metadata": {}
        }
      ],
      "execution_count": 1,
      "metadata": {
        "jupyter": {
          "source_hidden": false,
          "outputs_hidden": false
        },
        "nteract": {
          "transient": {
            "deleting": false
          }
        }
      }
    },
    {
      "cell_type": "markdown",
      "source": [
        "To start we'll import a bunch of necessary modules and setup values for some resoruces like storage accounts, container, and keyvault that we'll use throughout the rest of the example."
      ],
      "metadata": {
        "nteract": {
          "transient": {
            "deleting": false
          }
        }
      }
    },
    {
      "cell_type": "code",
      "source": [
        "from synapse.ml.cognitive import *\r\n",
        "import pyspark\r\n",
        "from pyspark.sql.functions import *  #needed for basic column manipulation like flattening json\r\n",
        "\r\n",
        "#Input your key vault information.  The secret we need is for the cognitive services multi-service resource.\r\n",
        "#set the name of your key vault\r\n",
        "keyVaultName = \"cgmsynapsevault\"\r\n",
        "#set the region where you cognitive service is deployed\r\n",
        "serviceLocation = \"eastus2\"\r\n",
        "cogServicesKey = mssparkutils.credentials.getSecret(keyVaultName, \"cogsvcskey\")\r\n",
        "\r\n"
      ],
      "outputs": [
        {
          "output_type": "display_data",
          "data": {
            "application/vnd.livy.statement-meta+json": {
              "spark_pool": "synapsemlpool",
              "session_id": 27,
              "statement_id": 1,
              "state": "finished",
              "livy_statement_state": "available",
              "queued_time": "2022-02-25T14:07:43.348763Z",
              "session_start_time": null,
              "execution_start_time": "2022-02-25T14:11:28.7149055Z",
              "execution_finish_time": "2022-02-25T14:11:35.5430919Z"
            },
            "text/plain": "StatementMeta(synapsemlpool, 27, 1, Finished, Available)"
          },
          "metadata": {}
        }
      ],
      "execution_count": 2,
      "metadata": {
        "jupyter": {
          "source_hidden": false,
          "outputs_hidden": false
        },
        "nteract": {
          "transient": {
            "deleting": false
          }
        }
      }
    },
    {
      "cell_type": "markdown",
      "source": [
        "## ** Computer Vision Service **\r\n",
        "\r\n",
        "https://docs.microsoft.com/en-us/azure/cognitive-services/computer-vision/\r\n",
        "\r\n",
        "*** OCR ***\r\n",
        "\r\n",
        "The Optical character recognition extracts text from an image.\r\n",
        "\r\n",
        "https://docs.microsoft.com/en-us/azure/cognitive-services/computer-vision/overview-ocr"
      ],
      "metadata": {
        "nteract": {
          "transient": {
            "deleting": false
          }
        }
      }
    },
    {
      "cell_type": "code",
      "source": [
        "df = spark.createDataFrame([\r\n",
        "        (\"https://mmlspark.blob.core.windows.net/datasets/OCR/test3.png\", ),\r\n",
        "    ], [\"url\", ])\r\n",
        "\r\n",
        "ocr = (OCR()\r\n",
        "        .setSubscriptionKey(cogServicesKey)\r\n",
        "        .setLocation(serviceLocation)\r\n",
        "        .setImageUrlCol(\"url\")\r\n",
        "        .setDetectOrientation(True)\r\n",
        "        .setOutputCol(\"ocr\")\r\n",
        "        .setErrorCol(\"error\"))\r\n",
        "\r\n",
        "results = ocr.transform(df).select(\"ocr\")\r\n",
        "            \r\n",
        "display(results)"
      ],
      "outputs": [
        {
          "output_type": "display_data",
          "data": {
            "application/vnd.livy.statement-meta+json": {
              "spark_pool": "synapsemlpool",
              "session_id": 27,
              "statement_id": 2,
              "state": "finished",
              "livy_statement_state": "available",
              "queued_time": "2022-02-25T14:07:43.3541827Z",
              "session_start_time": null,
              "execution_start_time": "2022-02-25T14:11:35.6370456Z",
              "execution_finish_time": "2022-02-25T14:12:05.7022156Z"
            },
            "text/plain": "StatementMeta(synapsemlpool, 27, 2, Finished, Available)"
          },
          "metadata": {}
        },
        {
          "output_type": "display_data",
          "data": {
            "application/vnd.synapse.widget-view+json": {
              "widget_id": "dae40dfd-7342-4458-8985-20312b6b2adb",
              "widget_type": "Synapse.DataFrame"
            },
            "text/plain": "SynapseWidget(Synapse.DataFrame, dae40dfd-7342-4458-8985-20312b6b2adb)"
          },
          "metadata": {}
        }
      ],
      "execution_count": 3,
      "metadata": {
        "jupyter": {
          "source_hidden": false,
          "outputs_hidden": false
        },
        "nteract": {
          "transient": {
            "deleting": false
          }
        },
        "collapsed": false
      }
    },
    {
      "cell_type": "markdown",
      "source": [
        "***  Image Analysis ***\r\n",
        "\r\n",
        "The image analysis API detects objects within an image like faces, landmarks, etc. and can be used to generate descriptiosn of images.\r\n",
        "\r\n",
        "https://docs.microsoft.com/en-us/azure/cognitive-services/computer-vision/overview-image-analysis"
      ],
      "metadata": {
        "nteract": {
          "transient": {
            "deleting": false
          }
        }
      }
    },
    {
      "cell_type": "code",
      "source": [
        "df = spark.createDataFrame([\r\n",
        "        (\"https://mmlspark.blob.core.windows.net/datasets/OCR/test1.jpg\", \"en\"),\r\n",
        "        (\"https://mmlspark.blob.core.windows.net/datasets/OCR/test2.png\", None),\r\n",
        "        (\"https://mmlspark.blob.core.windows.net/datasets/OCR/test3.png\", \"en\")\r\n",
        "    ], [\"image\", \"language\"])\r\n",
        "\r\n",
        "\r\n",
        "ai = (AnalyzeImage()\r\n",
        "        .setSubscriptionKey(cogServicesKey)\r\n",
        "        .setLocation(serviceLocation)\r\n",
        "        .setImageUrlCol(\"image\")\r\n",
        "        .setLanguageCol(\"language\")\r\n",
        "        .setVisualFeatures([\"Categories\", \"Tags\", \"Description\", \"Faces\", \"ImageType\", \"Color\", \"Adult\", \"Objects\", \"Brands\"])\r\n",
        "        .setDetails([\"Celebrities\", \"Landmarks\"])\r\n",
        "        .setOutputCol(\"features\"))\r\n",
        "\r\n",
        "results = ai.transform(df).select(\"features\")\r\n",
        "display(results)"
      ],
      "outputs": [
        {
          "output_type": "display_data",
          "data": {
            "application/vnd.livy.statement-meta+json": {
              "spark_pool": "synapsemlpool",
              "session_id": 27,
              "statement_id": 3,
              "state": "finished",
              "livy_statement_state": "available",
              "queued_time": "2022-02-25T14:07:43.3559965Z",
              "session_start_time": null,
              "execution_start_time": "2022-02-25T14:12:05.8085872Z",
              "execution_finish_time": "2022-02-25T14:12:12.548604Z"
            },
            "text/plain": "StatementMeta(synapsemlpool, 27, 3, Finished, Available)"
          },
          "metadata": {}
        },
        {
          "output_type": "display_data",
          "data": {
            "application/vnd.synapse.widget-view+json": {
              "widget_id": "7b08e255-fcc8-45ee-ab9c-5308b2ffa876",
              "widget_type": "Synapse.DataFrame"
            },
            "text/plain": "SynapseWidget(Synapse.DataFrame, 7b08e255-fcc8-45ee-ab9c-5308b2ffa876)"
          },
          "metadata": {}
        }
      ],
      "execution_count": 4,
      "metadata": {
        "jupyter": {
          "source_hidden": false,
          "outputs_hidden": false
        },
        "nteract": {
          "transient": {
            "deleting": false
          }
        },
        "collapsed": false
      }
    },
    {
      "cell_type": "code",
      "source": [
        "df = spark.createDataFrame([\r\n",
        "        (\"https://mmlspark.blob.core.windows.net/datasets/OCR/test1.jpg\", ),\r\n",
        "        (\"https://mmlspark.blob.core.windows.net/datasets/OCR/test2.png\", ),\r\n",
        "        (\"https://mmlspark.blob.core.windows.net/datasets/OCR/test3.png\", )\r\n",
        "    ], [\"url\", ])\r\n",
        "\r\n",
        "rt = (RecognizeText()\r\n",
        "        .setSubscriptionKey(cogServicesKey)\r\n",
        "        .setLocation(serviceLocation)\r\n",
        "        .setImageUrlCol(\"url\")\r\n",
        "        .setMode(\"Printed\")\r\n",
        "        .setOutputCol(\"ocr\")\r\n",
        "        .setConcurrency(5))\r\n",
        "\r\n",
        "results = rt.transform(df).select(\"ocr\")\r\n",
        "display(results)"
      ],
      "outputs": [
        {
          "output_type": "display_data",
          "data": {
            "application/vnd.livy.statement-meta+json": {
              "spark_pool": "synapsemlpool",
              "session_id": 27,
              "statement_id": 4,
              "state": "finished",
              "livy_statement_state": "available",
              "queued_time": "2022-02-25T14:07:43.358318Z",
              "session_start_time": null,
              "execution_start_time": "2022-02-25T14:12:12.6660572Z",
              "execution_finish_time": "2022-02-25T14:12:16.5374966Z"
            },
            "text/plain": "StatementMeta(synapsemlpool, 27, 4, Finished, Available)"
          },
          "metadata": {}
        },
        {
          "output_type": "display_data",
          "data": {
            "application/vnd.synapse.widget-view+json": {
              "widget_id": "0f61a427-90dd-432e-9709-6bc9db293493",
              "widget_type": "Synapse.DataFrame"
            },
            "text/plain": "SynapseWidget(Synapse.DataFrame, 0f61a427-90dd-432e-9709-6bc9db293493)"
          },
          "metadata": {}
        }
      ],
      "execution_count": 5,
      "metadata": {
        "jupyter": {
          "source_hidden": false,
          "outputs_hidden": false
        },
        "nteract": {
          "transient": {
            "deleting": false
          }
        },
        "collapsed": false
      }
    },
    {
      "cell_type": "markdown",
      "source": [
        "Note...  this is the current version of the API and is recommended for use over the OCR and RecognizeText variants."
      ],
      "metadata": {
        "nteract": {
          "transient": {
            "deleting": false
          }
        }
      }
    },
    {
      "cell_type": "code",
      "source": [
        "df = spark.createDataFrame([\r\n",
        "        (\"https://mmlspark.blob.core.windows.net/datasets/OCR/test1.jpg\", ),\r\n",
        "        (\"https://mmlspark.blob.core.windows.net/datasets/OCR/test2.png\", ),\r\n",
        "        (\"https://mmlspark.blob.core.windows.net/datasets/OCR/test3.png\", )\r\n",
        "    ], [\"url\", ])\r\n",
        "\r\n",
        "ri = (ReadImage()\r\n",
        "    .setSubscriptionKey(cogServicesKey)\r\n",
        "    .setLocation(serviceLocation)\r\n",
        "    .setImageUrlCol(\"url\")\r\n",
        "    .setOutputCol(\"ocr\")\r\n",
        "    .setConcurrency(5))\r\n",
        "\r\n",
        "results = ri.transform(df).select(\"ocr\")\r\n",
        "display(results)"
      ],
      "outputs": [
        {
          "output_type": "display_data",
          "data": {
            "application/vnd.livy.statement-meta+json": {
              "spark_pool": "synapsemlpool",
              "session_id": 27,
              "statement_id": 5,
              "state": "finished",
              "livy_statement_state": "available",
              "queued_time": "2022-02-25T14:07:43.3604624Z",
              "session_start_time": null,
              "execution_start_time": "2022-02-25T14:12:16.6388252Z",
              "execution_finish_time": "2022-02-25T14:12:20.5010359Z"
            },
            "text/plain": "StatementMeta(synapsemlpool, 27, 5, Finished, Available)"
          },
          "metadata": {}
        },
        {
          "output_type": "display_data",
          "data": {
            "application/vnd.synapse.widget-view+json": {
              "widget_id": "4eda9039-a68d-4c0c-afc1-e1a6ba46413a",
              "widget_type": "Synapse.DataFrame"
            },
            "text/plain": "SynapseWidget(Synapse.DataFrame, 4eda9039-a68d-4c0c-afc1-e1a6ba46413a)"
          },
          "metadata": {}
        }
      ],
      "execution_count": 6,
      "metadata": {
        "jupyter": {
          "source_hidden": false,
          "outputs_hidden": false
        },
        "nteract": {
          "transient": {
            "deleting": false
          }
        },
        "collapsed": false
      }
    },
    {
      "cell_type": "code",
      "source": [
        "df = spark.createDataFrame([\r\n",
        "        (\"https://mmlspark.blob.core.windows.net/datasets/DSIR/test2.jpg\", )\r\n",
        "    ], [\"url\", ])\r\n",
        "\r\n",
        "celeb = (RecognizeDomainSpecificContent()\r\n",
        "        .setSubscriptionKey(cogServicesKey)\r\n",
        "        .setModel(\"celebrities\")\r\n",
        "        .setLocation(serviceLocation)\r\n",
        "        .setImageUrlCol(\"url\")\r\n",
        "        .setOutputCol(\"celebs\"))\r\n",
        "\r\n",
        "results = celeb.transform(df).select(\"celebs\")\r\n",
        "display(results)"
      ],
      "outputs": [
        {
          "output_type": "display_data",
          "data": {
            "application/vnd.livy.statement-meta+json": {
              "spark_pool": "synapsemlpool",
              "session_id": 27,
              "statement_id": 6,
              "state": "finished",
              "livy_statement_state": "available",
              "queued_time": "2022-02-25T14:07:43.362944Z",
              "session_start_time": null,
              "execution_start_time": "2022-02-25T14:12:20.6004919Z",
              "execution_finish_time": "2022-02-25T14:12:23.3677327Z"
            },
            "text/plain": "StatementMeta(synapsemlpool, 27, 6, Finished, Available)"
          },
          "metadata": {}
        },
        {
          "output_type": "display_data",
          "data": {
            "application/vnd.synapse.widget-view+json": {
              "widget_id": "936aa269-721d-44b5-917b-e5b7c473fd5a",
              "widget_type": "Synapse.DataFrame"
            },
            "text/plain": "SynapseWidget(Synapse.DataFrame, 936aa269-721d-44b5-917b-e5b7c473fd5a)"
          },
          "metadata": {}
        }
      ],
      "execution_count": 7,
      "metadata": {
        "jupyter": {
          "source_hidden": false,
          "outputs_hidden": false
        },
        "nteract": {
          "transient": {
            "deleting": false
          }
        },
        "collapsed": false
      }
    },
    {
      "cell_type": "code",
      "source": [
        "import matplotlib.pyplot as plt\r\n",
        "import numpy as np\r\n",
        "import pandas as pd\r\n",
        "from PIL import Image\r\n",
        "from io import BytesIO\r\n",
        "\r\n",
        "df = spark.createDataFrame([\r\n",
        "        (\"https://mmlspark.blob.core.windows.net/datasets/DSIR/test1.jpg\", )\r\n",
        "    ], [\"url\", ])\r\n",
        "\r\n",
        "gt = (GenerateThumbnails()\r\n",
        "        .setSubscriptionKey(cogServicesKey)\r\n",
        "        .setLocation(serviceLocation)\r\n",
        "        .setHeight(50)\r\n",
        "        .setWidth(50)\r\n",
        "        .setSmartCropping(True)\r\n",
        "        .setImageUrlCol(\"url\")\r\n",
        "        .setOutputCol(\"thumbnails\"))\r\n",
        "\r\n",
        "gt.transform(df).select(\"thumbnails\").show()\r\n",
        "\r\n",
        "#Convert the cell to a pandas dataframe to get at the bytes\r\n",
        "results = gt.transform(df).select(\"thumbnails\").toPandas()\r\n",
        "\r\n",
        "#Turn the bytes into a bytestream so we can open it as an image\r\n",
        "im = Image.open(BytesIO(cellbytes[0,0]))\r\n",
        "\r\n",
        "# Display the image\r\n",
        "im.show()\r\n",
        "\r\n"
      ],
      "outputs": [
        {
          "output_type": "display_data",
          "data": {
            "application/vnd.livy.statement-meta+json": {
              "spark_pool": "synapsemlpool",
              "session_id": 27,
              "statement_id": 52,
              "state": "finished",
              "livy_statement_state": "available",
              "queued_time": "2022-02-25T14:44:01.0037668Z",
              "session_start_time": null,
              "execution_start_time": "2022-02-25T14:44:01.1335316Z",
              "execution_finish_time": "2022-02-25T14:44:05.0759562Z"
            },
            "text/plain": "StatementMeta(synapsemlpool, 27, 52, Finished, Available)"
          },
          "metadata": {}
        },
        {
          "output_type": "stream",
          "name": "stdout",
          "text": [
            "+--------------------+\n|          thumbnails|\n+--------------------+\n|[FF D8 FF E0 00 1...|\n+--------------------+\n\n"
          ]
        },
        {
          "output_type": "display_data",
          "data": {
            "text/plain": "<PIL.JpegImagePlugin.JpegImageFile image mode=RGB size=50x50 at 0x7F5F7D66D0D0>",
            "image/png": "[encoded data removed]"
          },
          "metadata": {}
        }
      ],
      "execution_count": 53,
      "metadata": {
        "jupyter": {
          "source_hidden": false,
          "outputs_hidden": false
        },
        "nteract": {
          "transient": {
            "deleting": false
          }
        }
      }
    },
    {
      "cell_type": "code",
      "source": [
        "df = spark.createDataFrame([\r\n",
        "        (\"https://mmlspark.blob.core.windows.net/datasets/DSIR/test1.jpg\", )\r\n",
        "    ], [\"url\", ])\r\n",
        "\r\n",
        "ti = (TagImage()\r\n",
        "        .setSubscriptionKey(cogServicesKey)\r\n",
        "        .setLocation(serviceLocation)\r\n",
        "        .setImageUrlCol(\"url\")\r\n",
        "        .setOutputCol(\"tags\"))\r\n",
        "\r\n",
        "results = ti.transform(df).select(\"tags\")\r\n",
        "\r\n",
        "image = Image.open()\r\n",
        "display(results)"
      ],
      "outputs": [
        {
          "output_type": "display_data",
          "data": {
            "application/vnd.livy.statement-meta+json": {
              "spark_pool": null,
              "session_id": null,
              "statement_id": null,
              "state": "cancelled",
              "livy_statement_state": null,
              "queued_time": "2022-02-25T14:07:43.3700029Z",
              "session_start_time": null,
              "execution_start_time": null,
              "execution_finish_time": "2022-02-25T14:12:24.5285034Z"
            },
            "text/plain": "StatementMeta(, , , Cancelled, )"
          },
          "metadata": {}
        }
      ],
      "execution_count": null,
      "metadata": {
        "jupyter": {
          "source_hidden": false,
          "outputs_hidden": false
        },
        "nteract": {
          "transient": {
            "deleting": false
          }
        },
        "collapsed": false
      }
    },
    {
      "cell_type": "code",
      "source": [
        "df = spark.createDataFrame([\r\n",
        "        (\"https://mmlspark.blob.core.windows.net/datasets/DSIR/test1.jpg\", )\r\n",
        "    ], [\"url\", ])\r\n",
        "\r\n",
        "di = (DescribeImage()\r\n",
        "        .setSubscriptionKey(cogServicesKey)\r\n",
        "        .setLocation(serviceLocation)\r\n",
        "        .setMaxCandidates(3)\r\n",
        "        .setImageUrlCol(\"url\")\r\n",
        "        .setOutputCol(\"descriptions\"))\r\n",
        "\r\n",
        "results = di.transform(df)\r\n",
        "display(results)"
      ],
      "outputs": [
        {
          "output_type": "display_data",
          "data": {
            "application/vnd.livy.statement-meta+json": {
              "spark_pool": null,
              "session_id": null,
              "statement_id": null,
              "state": "cancelled",
              "livy_statement_state": null,
              "queued_time": "2022-02-25T14:07:43.3728732Z",
              "session_start_time": null,
              "execution_start_time": null,
              "execution_finish_time": "2022-02-25T14:12:24.5291616Z"
            },
            "text/plain": "StatementMeta(, , , Cancelled, )"
          },
          "metadata": {}
        }
      ],
      "execution_count": null,
      "metadata": {
        "jupyter": {
          "source_hidden": false,
          "outputs_hidden": false
        },
        "nteract": {
          "transient": {
            "deleting": false
          }
        },
        "collapsed": false
      }
    }
  ],
  "metadata": {
    "kernelspec": {
      "name": "synapse_pyspark",
      "language": "Python",
      "display_name": "Synapse PySpark"
    },
    "language_info": {
      "name": "python"
    },
    "kernel_info": {
      "name": "synapse_pyspark"
    },
    "description": null,
    "save_output": true,
    "synapse_widget": {
      "version": "0.1",
      "state": {
        "dae40dfd-7342-4458-8985-20312b6b2adb": {
          "type": "Synapse.DataFrame",
          "sync_state": {
            "table": {
              "rows": [
                {
                  "0": {
                    "language": "en",
                    "textAngle": 0,
                    "orientation": "Up",
                    "regions": [
                      {
                        "boundingBox": "36,92,582,269",
                        "lines": [
                          {
                            "boundingBox": "36,92,544,30",
                            "words": [
                              {
                                "boundingBox": "36,92,60,24",
                                "text": "This"
                              },
                              {
                                "boundingBox": "109,92,20,24",
                                "text": "is"
                              },
                              {
                                "boundingBox": "141,98,15,18",
                                "text": "a"
                              },
                              {
                                "boundingBox": "169,92,32,24",
                                "text": "lot"
                              },
                              {
                                "boundingBox": "212,92,28,24",
                                "text": "of"
                              },
                              {
                                "boundingBox": "251,92,31,24",
                                "text": "12"
                              },
                              {
                                "boundingBox": "296,92,68,30",
                                "text": "point"
                              },
                              {
                                "boundingBox": "374,93,53,23",
                                "text": "text"
                              },
                              {
                                "boundingBox": "437,93,26,23",
                                "text": "to"
                              },
                              {
                                "boundingBox": "474,93,52,23",
                                "text": "test"
                              },
                              {
                                "boundingBox": "536,92,44,24",
                                "text": "the"
                              }
                            ]
                          },
                          {
                            "boundingBox": "36,126,582,31",
                            "words": [
                              {
                                "boundingBox": "36,132,45,18",
                                "text": "ocr"
                              },
                              {
                                "boundingBox": "91,126,69,24",
                                "text": "code"
                              },
                              {
                                "boundingBox": "172,126,51,24",
                                "text": "and"
                              },
                              {
                                "boundingBox": "236,132,50,18",
                                "text": "see"
                              },
                              {
                                "boundingBox": "299,126,15,24",
                                "text": "if"
                              },
                              {
                                "boundingBox": "325,126,14,24",
                                "text": "it"
                              },
                              {
                                "boundingBox": "348,126,85,24",
                                "text": "works"
                              },
                              {
                                "boundingBox": "445,132,33,18",
                                "text": "on"
                              },
                              {
                                "boundingBox": "500,126,29,24",
                                "text": "all"
                              },
                              {
                                "boundingBox": "541,127,77,30",
                                "text": "types"
                              }
                            ]
                          },
                          {
                            "boundingBox": "36,160,187,24",
                            "words": [
                              {
                                "boundingBox": "36,160,28,24",
                                "text": "of"
                              },
                              {
                                "boundingBox": "72,160,41,24",
                                "text": "file"
                              },
                              {
                                "boundingBox": "123,160,100,24",
                                "text": "format."
                              }
                            ]
                          },
                          {
                            "boundingBox": "36,194,549,31",
                            "words": [
                              {
                                "boundingBox": "36,194,55,24",
                                "text": "The"
                              },
                              {
                                "boundingBox": "102,194,75,30",
                                "text": "quick"
                              },
                              {
                                "boundingBox": "189,194,85,24",
                                "text": "brown"
                              },
                              {
                                "boundingBox": "287,194,52,31",
                                "text": "dog"
                              },
                              {
                                "boundingBox": "348,194,108,31",
                                "text": "jumped"
                              },
                              {
                                "boundingBox": "468,200,63,18",
                                "text": "over"
                              },
                              {
                                "boundingBox": "540,194,45,24",
                                "text": "the"
                              }
                            ]
                          },
                          {
                            "boundingBox": "37,228,548,31",
                            "words": [
                              {
                                "boundingBox": "37,228,55,31",
                                "text": "lazy"
                              },
                              {
                                "boundingBox": "103,228,50,24",
                                "text": "fox."
                              },
                              {
                                "boundingBox": "165,228,55,24",
                                "text": "The"
                              },
                              {
                                "boundingBox": "232,228,75,30",
                                "text": "quick"
                              },
                              {
                                "boundingBox": "319,228,85,24",
                                "text": "brown"
                              },
                              {
                                "boundingBox": "417,228,51,31",
                                "text": "dog"
                              },
                              {
                                "boundingBox": "478,228,107,31",
                                "text": "jumped"
                              }
                            ]
                          },
                          {
                            "boundingBox": "36,262,561,31",
                            "words": [
                              {
                                "boundingBox": "36,268,63,18",
                                "text": "over"
                              },
                              {
                                "boundingBox": "109,262,44,24",
                                "text": "the"
                              },
                              {
                                "boundingBox": "165,262,56,31",
                                "text": "lazy"
                              },
                              {
                                "boundingBox": "231,262,50,24",
                                "text": "fox."
                              },
                              {
                                "boundingBox": "294,262,55,24",
                                "text": "The"
                              },
                              {
                                "boundingBox": "360,262,75,30",
                                "text": "quick"
                              },
                              {
                                "boundingBox": "447,262,85,24",
                                "text": "brown"
                              },
                              {
                                "boundingBox": "545,262,52,31",
                                "text": "dog"
                              }
                            ]
                          },
                          {
                            "boundingBox": "43,296,518,31",
                            "words": [
                              {
                                "boundingBox": "43,296,107,31",
                                "text": "jumped"
                              },
                              {
                                "boundingBox": "162,302,64,18",
                                "text": "over"
                              },
                              {
                                "boundingBox": "235,296,44,24",
                                "text": "the"
                              },
                              {
                                "boundingBox": "292,296,55,31",
                                "text": "lazy"
                              },
                              {
                                "boundingBox": "357,296,50,24",
                                "text": "fox."
                              },
                              {
                                "boundingBox": "420,296,55,24",
                                "text": "The"
                              },
                              {
                                "boundingBox": "486,296,75,30",
                                "text": "quick"
                              }
                            ]
                          },
                          {
                            "boundingBox": "37,330,524,31",
                            "words": [
                              {
                                "boundingBox": "37,330,85,24",
                                "text": "brown"
                              },
                              {
                                "boundingBox": "135,330,52,31",
                                "text": "dog"
                              },
                              {
                                "boundingBox": "196,330,108,31",
                                "text": "jumped"
                              },
                              {
                                "boundingBox": "316,336,63,18",
                                "text": "over"
                              },
                              {
                                "boundingBox": "388,330,45,24",
                                "text": "the"
                              },
                              {
                                "boundingBox": "445,330,55,31",
                                "text": "lazy"
                              },
                              {
                                "boundingBox": "511,330,50,24",
                                "text": "fox."
                              }
                            ]
                          }
                        ]
                      }
                    ]
                  }
                }
              ],
              "schema": [
                {
                  "key": "0",
                  "name": "ocr",
                  "type": "StructType(StructField(language,StringType,true), StructField(textAngle,DoubleType,true), StructField(orientation,StringType,true), StructField(regions,ArrayType(StructType(StructField(boundingBox,StringType,true), StructField(lines,ArrayType(StructType(StructField(boundingBox,StringType,true), StructField(words,ArrayType(StructType(StructField(boundingBox,StringType,true), StructField(text,StringType,true)),true),true)),true),true)),true),true))"
                }
              ],
              "truncated": false
            },
            "isSummary": false,
            "language": "scala"
          },
          "persist_state": {
            "view": {
              "type": "details",
              "tableOptions": {},
              "chartOptions": {
                "chartType": "bar",
                "aggregationType": "count",
                "categoryFieldKeys": [],
                "seriesFieldKeys": [
                  "0"
                ],
                "isStacked": false
              }
            }
          }
        },
        "7b08e255-fcc8-45ee-ab9c-5308b2ffa876": {
          "type": "Synapse.DataFrame",
          "sync_state": {
            "table": {
              "rows": [
                {
                  "0": {
                    "description": {
                      "tags": [
                        "text"
                      ],
                      "captions": [
                        {
                          "text": "text",
                          "confidence": 0.2376432716846466
                        }
                      ]
                    },
                    "tags": [
                      {
                        "name": "text",
                        "confidence": 0.992297887802124
                      },
                      {
                        "name": "handwriting",
                        "confidence": 0.6332427263259888
                      },
                      {
                        "name": "wire fencing",
                        "confidence": 0.513887882232666
                      }
                    ],
                    "imageType": {
                      "clipArtType": 0,
                      "lineDrawingType": 0
                    },
                    "color": {
                      "accentColor": "C53106",
                      "dominantColorBackground": "White",
                      "isBwImg": false,
                      "dominantColors": [
                        "Teal"
                      ],
                      "dominantColorForeground": "Teal"
                    },
                    "faces": [],
                    "categories": [
                      {
                        "name": "others_",
                        "score": 0.01171875
                      },
                      {
                        "name": "outdoor_",
                        "score": 0.0078125,
                        "detail": {
                          "landmarks": []
                        }
                      }
                    ],
                    "adult": {
                      "isAdultContent": false,
                      "isRacyContent": false,
                      "adultScore": 0.006842791568487883,
                      "racyScore": 0.011080402880907059
                    },
                    "metadata": {
                      "width": 756,
                      "height": 1008,
                      "format": "Jpeg"
                    },
                    "requestId": "c8c5b8b1-c0e9-4c2c-9b30-20dec74fe39e",
                    "brands": [],
                    "objects": [
                      {
                        "rectangle": {
                          "x": 0,
                          "y": 13,
                          "w": 736,
                          "h": 711
                        },
                        "object": "chainlink fence",
                        "confidence": 0.522
                      }
                    ]
                  }
                },
                {
                  "0": {
                    "description": {
                      "tags": [
                        "diagram"
                      ],
                      "captions": [
                        {
                          "text": "diagram",
                          "confidence": 0.5913941860198975
                        }
                      ]
                    },
                    "tags": [
                      {
                        "name": "text",
                        "confidence": 0.9930362701416016
                      },
                      {
                        "name": "handwriting",
                        "confidence": 0.9790469408035278
                      },
                      {
                        "name": "cartoon",
                        "confidence": 0.8389750719070435
                      },
                      {
                        "name": "drawing",
                        "confidence": 0.7300620079040527
                      },
                      {
                        "name": "illustration",
                        "confidence": 0.6394660472869873
                      },
                      {
                        "name": "design",
                        "confidence": 0.6203702092170715
                      },
                      {
                        "name": "graphic",
                        "confidence": 0.5933648347854614
                      },
                      {
                        "name": "businesscard",
                        "confidence": 0.2515009939670563
                      }
                    ],
                    "imageType": {
                      "clipArtType": 3,
                      "lineDrawingType": 0
                    },
                    "color": {
                      "accentColor": "0051CB",
                      "dominantColorBackground": "White",
                      "isBwImg": false,
                      "dominantColors": [
                        "White"
                      ],
                      "dominantColorForeground": "White"
                    },
                    "faces": [],
                    "categories": [
                      {
                        "name": "text_sign",
                        "score": 0.8671875
                      }
                    ],
                    "adult": {
                      "isAdultContent": false,
                      "isRacyContent": false,
                      "adultScore": 0.003818127792328596,
                      "racyScore": 0.0050273253582417965
                    },
                    "metadata": {
                      "width": 1138,
                      "height": 825,
                      "format": "Png"
                    },
                    "requestId": "c4538b8b-9cf9-41ff-9b2c-a7914f1ba97f",
                    "brands": [],
                    "objects": []
                  }
                },
                {
                  "0": {
                    "description": {
                      "tags": [
                        "text"
                      ],
                      "captions": [
                        {
                          "text": "text",
                          "confidence": 0.995978593826294
                        }
                      ]
                    },
                    "tags": [
                      {
                        "name": "text",
                        "confidence": 0.9905055165290833
                      },
                      {
                        "name": "design",
                        "confidence": 0.8538239002227783
                      },
                      {
                        "name": "screenshot",
                        "confidence": 0.7953767776489258
                      },
                      {
                        "name": "font",
                        "confidence": 0.7040411233901978
                      },
                      {
                        "name": "graphic",
                        "confidence": 0.6539559364318848
                      }
                    ],
                    "imageType": {
                      "clipArtType": 0,
                      "lineDrawingType": 0
                    },
                    "color": {
                      "accentColor": "666666",
                      "dominantColorBackground": "White",
                      "isBwImg": true,
                      "dominantColors": [
                        "White",
                        "Grey"
                      ],
                      "dominantColorForeground": "White"
                    },
                    "faces": [],
                    "categories": [
                      {
                        "name": "text_",
                        "score": 0.80859375
                      },
                      {
                        "name": "text_sign",
                        "score": 0.125
                      }
                    ],
                    "adult": {
                      "isAdultContent": false,
                      "isRacyContent": false,
                      "adultScore": 0.0703619197010994,
                      "racyScore": 0.07408451288938522
                    },
                    "metadata": {
                      "width": 640,
                      "height": 480,
                      "format": "Png"
                    },
                    "requestId": "4b955906-a5a2-416c-8754-7d4a480ff39f",
                    "brands": [],
                    "objects": []
                  }
                }
              ],
              "schema": [
                {
                  "key": "0",
                  "name": "features",
                  "type": "StructType(StructField(categories,ArrayType(StructType(StructField(name,StringType,true), StructField(score,DoubleType,true), StructField(detail,StructType(StructField(celebrities,ArrayType(StructType(StructField(name,StringType,true), StructField(faceRectangle,StructType(StructField(left,IntegerType,true), StructField(top,IntegerType,true), StructField(width,IntegerType,true), StructField(height,IntegerType,true)),true), StructField(confidence,DoubleType,true)),true),true), StructField(landmarks,ArrayType(StructType(StructField(name,StringType,true), StructField(confidence,DoubleType,true)),true),true)),true)),true),true), StructField(adult,StructType(StructField(isAdultContent,BooleanType,true), StructField(isRacyContent,BooleanType,true), StructField(adultScore,DoubleType,true), StructField(racyScore,DoubleType,true)),true), StructField(tags,ArrayType(StructType(StructField(name,StringType,true), StructField(confidence,DoubleType,true)),true),true), StructField(description,StructType(StructField(tags,ArrayType(StringType,true),true), StructField(captions,ArrayType(StructType(StructField(text,StringType,true), StructField(confidence,DoubleType,true)),true),true)),true), StructField(requestId,StringType,true), StructField(metadata,StructType(StructField(width,IntegerType,true), StructField(height,IntegerType,true), StructField(format,StringType,true)),true), StructField(faces,ArrayType(StructType(StructField(age,IntegerType,true), StructField(gender,StringType,true), StructField(faceRectangle,StructType(StructField(left,IntegerType,true), StructField(top,IntegerType,true), StructField(width,IntegerType,true), StructField(height,IntegerType,true)),true)),true),true), StructField(color,StructType(StructField(dominantColorForeground,StringType,true), StructField(dominantColorBackground,StringType,true), StructField(dominantColors,ArrayType(StringType,true),true), StructField(accentColor,StringType,true), StructField(isBwImg,BooleanType,true)),true), StructField(imageType,StructType(StructField(clipArtType,IntegerType,true), StructField(lineDrawingType,IntegerType,true)),true), StructField(brands,ArrayType(StructType(StructField(name,StringType,true), StructField(rectangle,StructType(StructField(x,IntegerType,true), StructField(y,IntegerType,true), StructField(w,IntegerType,true), StructField(h,IntegerType,true)),true)),true),true), StructField(objects,ArrayType(StructType(StructField(rectangle,StructType(StructField(x,IntegerType,true), StructField(y,IntegerType,true), StructField(w,IntegerType,true), StructField(h,IntegerType,true)),true), StructField(object,StringType,true), StructField(confidence,DoubleType,true)),true),true))"
                }
              ],
              "truncated": false
            },
            "isSummary": false,
            "language": "scala"
          },
          "persist_state": {
            "view": {
              "type": "details",
              "tableOptions": {},
              "chartOptions": {
                "chartType": "bar",
                "aggregationType": "count",
                "categoryFieldKeys": [],
                "seriesFieldKeys": [
                  "0"
                ],
                "isStacked": false
              }
            }
          }
        },
        "0f61a427-90dd-432e-9709-6bc9db293493": {
          "type": "Synapse.DataFrame",
          "sync_state": {
            "table": {
              "rows": [
                {
                  "0": {
                    "status": "Succeeded",
                    "recognitionResult": {
                      "lines": [
                        {
                          "boundingBox": [
                            177,
                            495,
                            667,
                            673,
                            619,
                            805,
                            129,
                            628
                          ],
                          "text": "CLOSED",
                          "words": [
                            {
                              "boundingBox": [
                                191,
                                503,
                                668,
                                673,
                                614,
                                806,
                                140,
                                627
                              ],
                              "text": "CLOSED"
                            }
                          ]
                        },
                        {
                          "boundingBox": [
                            145,
                            642,
                            600,
                            812,
                            588,
                            844,
                            133,
                            673
                          ],
                          "text": "WHEN ONE DOOR CLOSES, ANOTHER",
                          "words": [
                            {
                              "boundingBox": [
                                148,
                                644,
                                222,
                                672,
                                210,
                                701,
                                136,
                                671
                              ],
                              "text": "WHEN"
                            },
                            {
                              "boundingBox": [
                                231,
                                675,
                                285,
                                695,
                                273,
                                726,
                                219,
                                704
                              ],
                              "text": "ONE"
                            },
                            {
                              "boundingBox": [
                                291,
                                697,
                                365,
                                725,
                                353,
                                756,
                                279,
                                728
                              ],
                              "text": "DOOR"
                            },
                            {
                              "boundingBox": [
                                372,
                                728,
                                473,
                                766,
                                461,
                                796,
                                360,
                                759
                              ],
                              "text": "CLOSES,"
                            },
                            {
                              "boundingBox": [
                                479,
                                768,
                                600,
                                813,
                                587,
                                841,
                                466,
                                798
                              ],
                              "text": "ANOTHER"
                            }
                          ]
                        },
                        {
                          "boundingBox": [
                            67,
                            673,
                            644,
                            888,
                            632,
                            920,
                            55,
                            705
                          ],
                          "text": "OPENS. ALL YOU HAVE TO DO IS WALK IN",
                          "words": [
                            {
                              "boundingBox": [
                                77,
                                678,
                                168,
                                712,
                                157,
                                743,
                                67,
                                709
                              ],
                              "text": "OPENS."
                            },
                            {
                              "boundingBox": [
                                174,
                                714,
                                229,
                                734,
                                217,
                                766,
                                163,
                                746
                              ],
                              "text": "ALL"
                            },
                            {
                              "boundingBox": [
                                237,
                                737,
                                295,
                                759,
                                284,
                                791,
                                225,
                                769
                              ],
                              "text": "YOU"
                            },
                            {
                              "boundingBox": [
                                303,
                                762,
                                384,
                                792,
                                372,
                                824,
                                292,
                                794
                              ],
                              "text": "HAVE"
                            },
                            {
                              "boundingBox": [
                                392,
                                795,
                                429,
                                808,
                                416,
                                840,
                                380,
                                827
                              ],
                              "text": "TO"
                            },
                            {
                              "boundingBox": [
                                435,
                                811,
                                477,
                                826,
                                464,
                                858,
                                422,
                                842
                              ],
                              "text": "DO"
                            },
                            {
                              "boundingBox": [
                                485,
                                829,
                                515,
                                841,
                                502,
                                872,
                                472,
                                861
                              ],
                              "text": "IS"
                            },
                            {
                              "boundingBox": [
                                521,
                                843,
                                604,
                                874,
                                590,
                                905,
                                508,
                                874
                              ],
                              "text": "WALK"
                            },
                            {
                              "boundingBox": [
                                614,
                                878,
                                644,
                                889,
                                631,
                                920,
                                600,
                                909
                              ],
                              "text": "IN"
                            }
                          ]
                        }
                      ]
                    }
                  }
                },
                {
                  "0": {
                    "status": "Succeeded",
                    "recognitionResult": {
                      "lines": [
                        {
                          "boundingBox": [
                            124,
                            126,
                            399,
                            90,
                            407,
                            199,
                            140,
                            229
                          ],
                          "text": "Sorry!",
                          "words": [
                            {
                              "boundingBox": [
                                137,
                                122,
                                397,
                                90,
                                410,
                                198,
                                151,
                                230
                              ],
                              "text": "Sorry!"
                            }
                          ]
                        },
                        {
                          "boundingBox": [
                            591,
                            173,
                            909,
                            125,
                            921,
                            208,
                            604,
                            257
                          ],
                          "text": "Have a",
                          "words": [
                            {
                              "boundingBox": [
                                598,
                                173,
                                812,
                                140,
                                824,
                                225,
                                610,
                                257
                              ],
                              "text": "Have"
                            },
                            {
                              "boundingBox": [
                                834,
                                137,
                                895,
                                128,
                                907,
                                212,
                                846,
                                221
                              ],
                              "text": "a"
                            }
                          ]
                        },
                        {
                          "boundingBox": [
                            584,
                            267,
                            973,
                            225,
                            982,
                            306,
                            593,
                            348
                          ],
                          "text": "nice day !",
                          "words": [
                            {
                              "boundingBox": [
                                585,
                                271,
                                763,
                                251,
                                771,
                                330,
                                593,
                                345
                              ],
                              "text": "nice"
                            },
                            {
                              "boundingBox": [
                                811,
                                245,
                                940,
                                230,
                                949,
                                310,
                                819,
                                325
                              ],
                              "text": "day"
                            },
                            {
                              "boundingBox": [
                                955,
                                228,
                                974,
                                225,
                                983,
                                306,
                                964,
                                309
                              ],
                              "text": "!"
                            }
                          ]
                        },
                        {
                          "boundingBox": [
                            199,
                            379,
                            424,
                            365,
                            423,
                            476,
                            209,
                            488
                          ],
                          "text": "Oops!",
                          "words": [
                            {
                              "boundingBox": [
                                206,
                                378,
                                420,
                                365,
                                427,
                                476,
                                212,
                                488
                              ],
                              "text": "Oops!"
                            }
                          ]
                        },
                        {
                          "boundingBox": [
                            824,
                            498,
                            1003,
                            489,
                            1014,
                            594,
                            834,
                            607
                          ],
                          "text": "Bye !",
                          "words": [
                            {
                              "boundingBox": [
                                830,
                                498,
                                961,
                                490,
                                968,
                                598,
                                837,
                                606
                              ],
                              "text": "Bye"
                            },
                            {
                              "boundingBox": [
                                983,
                                488,
                                1005,
                                487,
                                1011,
                                596,
                                989,
                                597
                              ],
                              "text": "!"
                            }
                          ]
                        },
                        {
                          "boundingBox": [
                            166,
                            628,
                            662,
                            600,
                            667,
                            684,
                            171,
                            712
                          ],
                          "text": "See you soon !",
                          "words": [
                            {
                              "boundingBox": [
                                172,
                                628,
                                295,
                                624,
                                300,
                                704,
                                179,
                                713
                              ],
                              "text": "See"
                            },
                            {
                              "boundingBox": [
                                312,
                                623,
                                447,
                                618,
                                449,
                                693,
                                317,
                                703
                              ],
                              "text": "you"
                            },
                            {
                              "boundingBox": [
                                463,
                                618,
                                620,
                                611,
                                620,
                                680,
                                466,
                                692
                              ],
                              "text": "soon"
                            },
                            {
                              "boundingBox": [
                                637,
                                610,
                                659,
                                609,
                                659,
                                677,
                                637,
                                679
                              ],
                              "text": "!"
                            }
                          ]
                        }
                      ]
                    }
                  }
                },
                {
                  "0": {
                    "status": "Succeeded",
                    "recognitionResult": {
                      "lines": [
                        {
                          "boundingBox": [
                            35,
                            90,
                            581,
                            90,
                            581,
                            121,
                            35,
                            120
                          ],
                          "text": "This is a lot of 12 point text to test the",
                          "words": [
                            {
                              "boundingBox": [
                                39,
                                91,
                                100,
                                90,
                                100,
                                120,
                                39,
                                119
                              ],
                              "text": "This"
                            },
                            {
                              "boundingBox": [
                                105,
                                90,
                                135,
                                90,
                                135,
                                120,
                                106,
                                120
                              ],
                              "text": "is"
                            },
                            {
                              "boundingBox": [
                                142,
                                90,
                                161,
                                90,
                                161,
                                121,
                                143,
                                121
                              ],
                              "text": "a"
                            },
                            {
                              "boundingBox": [
                                166,
                                90,
                                207,
                                90,
                                207,
                                121,
                                166,
                                121
                              ],
                              "text": "lot"
                            },
                            {
                              "boundingBox": [
                                212,
                                90,
                                247,
                                90,
                                248,
                                121,
                                213,
                                121
                              ],
                              "text": "of"
                            },
                            {
                              "boundingBox": [
                                253,
                                90,
                                286,
                                90,
                                286,
                                122,
                                253,
                                121
                              ],
                              "text": "12"
                            },
                            {
                              "boundingBox": [
                                293,
                                90,
                                371,
                                91,
                                371,
                                121,
                                294,
                                122
                              ],
                              "text": "point"
                            },
                            {
                              "boundingBox": [
                                376,
                                91,
                                432,
                                91,
                                432,
                                121,
                                376,
                                121
                              ],
                              "text": "text"
                            },
                            {
                              "boundingBox": [
                                437,
                                91,
                                467,
                                91,
                                467,
                                120,
                                437,
                                121
                              ],
                              "text": "to"
                            },
                            {
                              "boundingBox": [
                                476,
                                91,
                                531,
                                91,
                                531,
                                119,
                                476,
                                120
                              ],
                              "text": "test"
                            },
                            {
                              "boundingBox": [
                                537,
                                91,
                                581,
                                91,
                                581,
                                118,
                                537,
                                119
                              ],
                              "text": "the"
                            }
                          ]
                        },
                        {
                          "boundingBox": [
                            34,
                            122,
                            618,
                            124,
                            618,
                            156,
                            34,
                            154
                          ],
                          "text": "ocr code and see if it works on all types",
                          "words": [
                            {
                              "boundingBox": [
                                36,
                                128,
                                86,
                                126,
                                86,
                                153,
                                36,
                                153
                              ],
                              "text": "ocr"
                            },
                            {
                              "boundingBox": [
                                91,
                                126,
                                162,
                                125,
                                161,
                                154,
                                91,
                                153
                              ],
                              "text": "code"
                            },
                            {
                              "boundingBox": [
                                173,
                                125,
                                227,
                                124,
                                227,
                                154,
                                173,
                                154
                              ],
                              "text": "and"
                            },
                            {
                              "boundingBox": [
                                237,
                                124,
                                289,
                                124,
                                288,
                                155,
                                237,
                                154
                              ],
                              "text": "see"
                            },
                            {
                              "boundingBox": [
                                297,
                                124,
                                319,
                                124,
                                319,
                                155,
                                297,
                                155
                              ],
                              "text": "if"
                            },
                            {
                              "boundingBox": [
                                324,
                                124,
                                344,
                                124,
                                344,
                                155,
                                324,
                                155
                              ],
                              "text": "it"
                            },
                            {
                              "boundingBox": [
                                349,
                                124,
                                436,
                                124,
                                436,
                                155,
                                349,
                                155
                              ],
                              "text": "works"
                            },
                            {
                              "boundingBox": [
                                446,
                                124,
                                479,
                                125,
                                479,
                                156,
                                446,
                                156
                              ],
                              "text": "on"
                            },
                            {
                              "boundingBox": [
                                501,
                                125,
                                536,
                                125,
                                536,
                                156,
                                501,
                                156
                              ],
                              "text": "all"
                            },
                            {
                              "boundingBox": [
                                541,
                                125,
                                618,
                                127,
                                618,
                                157,
                                541,
                                156
                              ],
                              "text": "types"
                            }
                          ]
                        },
                        {
                          "boundingBox": [
                            33,
                            157,
                            225,
                            157,
                            225,
                            186,
                            34,
                            186
                          ],
                          "text": "of file format.",
                          "words": [
                            {
                              "boundingBox": [
                                36,
                                158,
                                66,
                                158,
                                66,
                                187,
                                36,
                                187
                              ],
                              "text": "of"
                            },
                            {
                              "boundingBox": [
                                72,
                                158,
                                117,
                                158,
                                118,
                                187,
                                72,
                                187
                              ],
                              "text": "file"
                            },
                            {
                              "boundingBox": [
                                125,
                                158,
                                225,
                                157,
                                225,
                                187,
                                125,
                                187
                              ],
                              "text": "format."
                            }
                          ]
                        },
                        {
                          "boundingBox": [
                            35,
                            192,
                            585,
                            191,
                            585,
                            224,
                            35,
                            225
                          ],
                          "text": "The quick brown dog jumped over the",
                          "words": [
                            {
                              "boundingBox": [
                                39,
                                193,
                                92,
                                193,
                                94,
                                223,
                                41,
                                222
                              ],
                              "text": "The"
                            },
                            {
                              "boundingBox": [
                                102,
                                193,
                                180,
                                193,
                                181,
                                225,
                                103,
                                223
                              ],
                              "text": "quick"
                            },
                            {
                              "boundingBox": [
                                186,
                                193,
                                277,
                                192,
                                277,
                                226,
                                186,
                                225
                              ],
                              "text": "brown"
                            },
                            {
                              "boundingBox": [
                                294,
                                192,
                                343,
                                192,
                                343,
                                226,
                                294,
                                226
                              ],
                              "text": "dog"
                            },
                            {
                              "boundingBox": [
                                349,
                                192,
                                461,
                                192,
                                461,
                                224,
                                349,
                                226
                              ],
                              "text": "jumped"
                            },
                            {
                              "boundingBox": [
                                469,
                                192,
                                535,
                                192,
                                534,
                                223,
                                468,
                                224
                              ],
                              "text": "over"
                            },
                            {
                              "boundingBox": [
                                541,
                                192,
                                585,
                                192,
                                584,
                                221,
                                540,
                                223
                              ],
                              "text": "the"
                            }
                          ]
                        },
                        {
                          "boundingBox": [
                            36,
                            226,
                            588,
                            226,
                            588,
                            257,
                            36,
                            257
                          ],
                          "text": "lazy fox. The quick brown dog jumped",
                          "words": [
                            {
                              "boundingBox": [
                                36,
                                227,
                                96,
                                227,
                                96,
                                257,
                                36,
                                257
                              ],
                              "text": "lazy"
                            },
                            {
                              "boundingBox": [
                                102,
                                227,
                                163,
                                227,
                                162,
                                258,
                                102,
                                257
                              ],
                              "text": "fox."
                            },
                            {
                              "boundingBox": [
                                169,
                                227,
                                225,
                                227,
                                224,
                                258,
                                168,
                                258
                              ],
                              "text": "The"
                            },
                            {
                              "boundingBox": [
                                233,
                                227,
                                311,
                                227,
                                310,
                                258,
                                232,
                                258
                              ],
                              "text": "quick"
                            },
                            {
                              "boundingBox": [
                                317,
                                227,
                                409,
                                227,
                                408,
                                258,
                                316,
                                258
                              ],
                              "text": "brown"
                            },
                            {
                              "boundingBox": [
                                425,
                                227,
                                473,
                                227,
                                472,
                                258,
                                424,
                                258
                              ],
                              "text": "dog"
                            },
                            {
                              "boundingBox": [
                                479,
                                227,
                                587,
                                226,
                                586,
                                258,
                                478,
                                258
                              ],
                              "text": "jumped"
                            }
                          ]
                        },
                        {
                          "boundingBox": [
                            32,
                            260,
                            599,
                            260,
                            599,
                            291,
                            32,
                            291
                          ],
                          "text": "over the lazy fox. The quick brown dog",
                          "words": [
                            {
                              "boundingBox": [
                                37,
                                263,
                                103,
                                262,
                                103,
                                291,
                                36,
                                291
                              ],
                              "text": "over"
                            },
                            {
                              "boundingBox": [
                                109,
                                262,
                                155,
                                261,
                                154,
                                292,
                                108,
                                291
                              ],
                              "text": "the"
                            },
                            {
                              "boundingBox": [
                                164,
                                261,
                                225,
                                261,
                                224,
                                292,
                                163,
                                292
                              ],
                              "text": "lazy"
                            },
                            {
                              "boundingBox": [
                                232,
                                261,
                                293,
                                261,
                                292,
                                292,
                                231,
                                292
                              ],
                              "text": "fox."
                            },
                            {
                              "boundingBox": [
                                298,
                                261,
                                352,
                                261,
                                351,
                                292,
                                298,
                                292
                              ],
                              "text": "The"
                            },
                            {
                              "boundingBox": [
                                361,
                                261,
                                438,
                                261,
                                437,
                                292,
                                360,
                                292
                              ],
                              "text": "quick"
                            },
                            {
                              "boundingBox": [
                                446,
                                261,
                                536,
                                262,
                                535,
                                292,
                                445,
                                292
                              ],
                              "text": "brown"
                            },
                            {
                              "boundingBox": [
                                550,
                                262,
                                598,
                                263,
                                597,
                                291,
                                550,
                                292
                              ],
                              "text": "dog"
                            }
                          ]
                        },
                        {
                          "boundingBox": [
                            41,
                            295,
                            562,
                            293,
                            562,
                            325,
                            41,
                            327
                          ],
                          "text": "jumped over the lazy fox. The quick",
                          "words": [
                            {
                              "boundingBox": [
                                42,
                                295,
                                156,
                                295,
                                156,
                                327,
                                42,
                                328
                              ],
                              "text": "jumped"
                            },
                            {
                              "boundingBox": [
                                162,
                                295,
                                229,
                                295,
                                229,
                                327,
                                163,
                                327
                              ],
                              "text": "over"
                            },
                            {
                              "boundingBox": [
                                236,
                                295,
                                283,
                                295,
                                283,
                                327,
                                236,
                                327
                              ],
                              "text": "the"
                            },
                            {
                              "boundingBox": [
                                289,
                                295,
                                352,
                                295,
                                351,
                                326,
                                289,
                                327
                              ],
                              "text": "lazy"
                            },
                            {
                              "boundingBox": [
                                358,
                                295,
                                417,
                                295,
                                416,
                                326,
                                358,
                                326
                              ],
                              "text": "fox."
                            },
                            {
                              "boundingBox": [
                                423,
                                295,
                                481,
                                294,
                                480,
                                326,
                                422,
                                326
                              ],
                              "text": "The"
                            },
                            {
                              "boundingBox": [
                                488,
                                294,
                                561,
                                294,
                                560,
                                326,
                                487,
                                326
                              ],
                              "text": "quick"
                            }
                          ]
                        },
                        {
                          "boundingBox": [
                            36,
                            329,
                            562,
                            329,
                            562,
                            360,
                            36,
                            360
                          ],
                          "text": "brown dog jumped over the lazy fox.",
                          "words": [
                            {
                              "boundingBox": [
                                36,
                                331,
                                124,
                                330,
                                124,
                                360,
                                36,
                                358
                              ],
                              "text": "brown"
                            },
                            {
                              "boundingBox": [
                                142,
                                330,
                                191,
                                330,
                                190,
                                360,
                                142,
                                360
                              ],
                              "text": "dog"
                            },
                            {
                              "boundingBox": [
                                198,
                                330,
                                309,
                                330,
                                309,
                                361,
                                197,
                                360
                              ],
                              "text": "jumped"
                            },
                            {
                              "boundingBox": [
                                316,
                                330,
                                385,
                                330,
                                384,
                                361,
                                316,
                                361
                              ],
                              "text": "over"
                            },
                            {
                              "boundingBox": [
                                390,
                                330,
                                437,
                                330,
                                436,
                                360,
                                389,
                                361
                              ],
                              "text": "the"
                            },
                            {
                              "boundingBox": [
                                444,
                                330,
                                505,
                                330,
                                504,
                                360,
                                443,
                                360
                              ],
                              "text": "lazy"
                            },
                            {
                              "boundingBox": [
                                512,
                                330,
                                563,
                                330,
                                562,
                                359,
                                511,
                                360
                              ],
                              "text": "fox."
                            }
                          ]
                        }
                      ]
                    }
                  }
                }
              ],
              "schema": [
                {
                  "key": "0",
                  "name": "ocr",
                  "type": "StructType(StructField(status,StringType,true), StructField(recognitionResult,StructType(StructField(lines,ArrayType(StructType(StructField(boundingBox,ArrayType(IntegerType,true),true), StructField(text,StringType,true), StructField(words,ArrayType(StructType(StructField(boundingBox,ArrayType(IntegerType,true),true), StructField(text,StringType,true)),true),true)),true),true)),true))"
                }
              ],
              "truncated": false
            },
            "isSummary": false,
            "language": "scala"
          },
          "persist_state": {
            "view": {
              "type": "details",
              "tableOptions": {},
              "chartOptions": {
                "chartType": "bar",
                "aggregationType": "count",
                "categoryFieldKeys": [],
                "seriesFieldKeys": [
                  "0"
                ],
                "isStacked": false
              }
            }
          }
        },
        "4eda9039-a68d-4c0c-afc1-e1a6ba46413a": {
          "type": "Synapse.DataFrame",
          "sync_state": {
            "table": {
              "rows": [
                {
                  "0": {
                    "status": "succeeded",
                    "createdDateTime": "2022-02-25T14:12:18Z",
                    "lastUpdatedDateTime": "2022-02-25T14:12:19Z",
                    "analyzeResult": {
                      "version": "3.0.0",
                      "readResults": [
                        {
                          "angle": 20.4048,
                          "page": 1,
                          "height": 1008,
                          "unit": "pixel",
                          "lines": [
                            {
                              "boundingBox": [
                                182,
                                511,
                                652,
                                677,
                                609,
                                796,
                                140,
                                630
                              ],
                              "text": "CLOSED",
                              "words": [
                                {
                                  "boundingBox": [
                                    181,
                                    512,
                                    652,
                                    681,
                                    601,
                                    796,
                                    140,
                                    630
                                  ],
                                  "text": "CLOSED",
                                  "confidence": 0.986
                                }
                              ]
                            },
                            {
                              "boundingBox": [
                                146,
                                643,
                                603,
                                813,
                                593,
                                841,
                                136,
                                671
                              ],
                              "text": "WHEN ONE DOOR CLOSES, ANOTHER",
                              "words": [
                                {
                                  "boundingBox": [
                                    146,
                                    644,
                                    220,
                                    672,
                                    210,
                                    699,
                                    136,
                                    671
                                  ],
                                  "text": "WHEN",
                                  "confidence": 0.987
                                },
                                {
                                  "boundingBox": [
                                    225,
                                    674,
                                    279,
                                    694,
                                    270,
                                    722,
                                    215,
                                    701
                                  ],
                                  "text": "ONE",
                                  "confidence": 0.987
                                },
                                {
                                  "boundingBox": [
                                    285,
                                    696,
                                    362,
                                    725,
                                    353,
                                    753,
                                    275,
                                    724
                                  ],
                                  "text": "DOOR",
                                  "confidence": 0.986
                                },
                                {
                                  "boundingBox": [
                                    367,
                                    727,
                                    468,
                                    764,
                                    459,
                                    792,
                                    358,
                                    755
                                  ],
                                  "text": "CLOSES,",
                                  "confidence": 0.941
                                },
                                {
                                  "boundingBox": [
                                    473,
                                    766,
                                    602,
                                    813,
                                    593,
                                    841,
                                    464,
                                    794
                                  ],
                                  "text": "ANOTHER",
                                  "confidence": 0.984
                                }
                              ]
                            },
                            {
                              "boundingBox": [
                                75,
                                676,
                                644,
                                887,
                                633,
                                919,
                                65,
                                706
                              ],
                              "text": "OPENS. ALL YOU HAVE TO DO IS WALK IN",
                              "words": [
                                {
                                  "boundingBox": [
                                    75,
                                    677,
                                    161,
                                    710,
                                    152,
                                    739,
                                    65,
                                    706
                                  ],
                                  "text": "OPENS.",
                                  "confidence": 0.951
                                },
                                {
                                  "boundingBox": [
                                    167,
                                    712,
                                    226,
                                    734,
                                    216,
                                    763,
                                    157,
                                    741
                                  ],
                                  "text": "ALL",
                                  "confidence": 0.986
                                },
                                {
                                  "boundingBox": [
                                    232,
                                    736,
                                    291,
                                    758,
                                    281,
                                    788,
                                    222,
                                    766
                                  ],
                                  "text": "YOU",
                                  "confidence": 0.983
                                },
                                {
                                  "boundingBox": [
                                    296,
                                    760,
                                    379,
                                    791,
                                    370,
                                    821,
                                    287,
                                    790
                                  ],
                                  "text": "HAVE",
                                  "confidence": 0.985
                                },
                                {
                                  "boundingBox": [
                                    385,
                                    793,
                                    424,
                                    807,
                                    414,
                                    838,
                                    375,
                                    823
                                  ],
                                  "text": "TO",
                                  "confidence": 0.985
                                },
                                {
                                  "boundingBox": [
                                    429,
                                    809,
                                    472,
                                    825,
                                    462,
                                    856,
                                    419,
                                    840
                                  ],
                                  "text": "DO",
                                  "confidence": 0.987
                                },
                                {
                                  "boundingBox": [
                                    477,
                                    827,
                                    511,
                                    839,
                                    501,
                                    871,
                                    468,
                                    858
                                  ],
                                  "text": "IS",
                                  "confidence": 0.983
                                },
                                {
                                  "boundingBox": [
                                    516,
                                    841,
                                    600,
                                    871,
                                    590,
                                    904,
                                    506,
                                    873
                                  ],
                                  "text": "WALK",
                                  "confidence": 0.985
                                },
                                {
                                  "boundingBox": [
                                    605,
                                    873,
                                    643,
                                    886,
                                    632,
                                    919,
                                    595,
                                    906
                                  ],
                                  "text": "IN",
                                  "confidence": 0.906
                                }
                              ]
                            }
                          ],
                          "width": 756
                        }
                      ]
                    }
                  }
                },
                {
                  "0": {
                    "status": "succeeded",
                    "createdDateTime": "2022-02-25T14:12:18Z",
                    "lastUpdatedDateTime": "2022-02-25T14:12:19Z",
                    "analyzeResult": {
                      "version": "3.0.0",
                      "readResults": [
                        {
                          "angle": -4.1222,
                          "page": 1,
                          "height": 825,
                          "unit": "pixel",
                          "lines": [
                            {
                              "boundingBox": [
                                125,
                                127,
                                396,
                                96,
                                400,
                                199,
                                141,
                                226
                              ],
                              "text": "Sorry!",
                              "words": [
                                {
                                  "boundingBox": [
                                    131,
                                    124,
                                    390,
                                    96,
                                    401,
                                    199,
                                    142,
                                    227
                                  ],
                                  "text": "Sorry!",
                                  "confidence": 0.559
                                }
                              ]
                            },
                            {
                              "boundingBox": [
                                597,
                                175,
                                908,
                                138,
                                917,
                                208,
                                606,
                                253
                              ],
                              "text": "Have a",
                              "words": [
                                {
                                  "boundingBox": [
                                    622,
                                    173,
                                    833,
                                    145,
                                    841,
                                    218,
                                    631,
                                    250
                                  ],
                                  "text": "Have",
                                  "confidence": 0.986
                                },
                                {
                                  "boundingBox": [
                                    864,
                                    142,
                                    909,
                                    138,
                                    916,
                                    207,
                                    871,
                                    213
                                  ],
                                  "text": "a",
                                  "confidence": 0.986
                                }
                              ]
                            },
                            {
                              "boundingBox": [
                                587,
                                272,
                                976,
                                228,
                                985,
                                306,
                                595,
                                343
                              ],
                              "text": "nice day !",
                              "words": [
                                {
                                  "boundingBox": [
                                    606,
                                    272,
                                    776,
                                    256,
                                    784,
                                    330,
                                    614,
                                    342
                                  ],
                                  "text": "nice",
                                  "confidence": 0.981
                                },
                                {
                                  "boundingBox": [
                                    795,
                                    253,
                                    923,
                                    236,
                                    931,
                                    310,
                                    802,
                                    328
                                  ],
                                  "text": "day",
                                  "confidence": 0.985
                                },
                                {
                                  "boundingBox": [
                                    937,
                                    234,
                                    973,
                                    229,
                                    981,
                                    301,
                                    944,
                                    308
                                  ],
                                  "text": "!",
                                  "confidence": 0.559
                                }
                              ]
                            },
                            {
                              "boundingBox": [
                                205,
                                377,
                                425,
                                378,
                                424,
                                481,
                                201,
                                484
                              ],
                              "text": "Oops!",
                              "words": [
                                {
                                  "boundingBox": [
                                    222,
                                    377,
                                    422,
                                    377,
                                    422,
                                    483,
                                    222,
                                    484
                                  ],
                                  "text": "Oops!",
                                  "confidence": 0.559
                                }
                              ]
                            },
                            {
                              "boundingBox": [
                                821,
                                500,
                                1003,
                                488,
                                1011,
                                595,
                                832,
                                609
                              ],
                              "text": "Bye!",
                              "words": [
                                {
                                  "boundingBox": [
                                    821,
                                    500,
                                    1001,
                                    488,
                                    1009,
                                    596,
                                    828,
                                    609
                                  ],
                                  "text": "Bye!",
                                  "confidence": 0.559
                                }
                              ]
                            },
                            {
                              "boundingBox": [
                                167,
                                631,
                                662,
                                610,
                                666,
                                680,
                                167,
                                711
                              ],
                              "text": "See you soon !",
                              "words": [
                                {
                                  "boundingBox": [
                                    175,
                                    631,
                                    298,
                                    628,
                                    297,
                                    703,
                                    173,
                                    712
                                  ],
                                  "text": "See",
                                  "confidence": 0.983
                                },
                                {
                                  "boundingBox": [
                                    314,
                                    628,
                                    438,
                                    623,
                                    437,
                                    692,
                                    313,
                                    701
                                  ],
                                  "text": "you",
                                  "confidence": 0.986
                                },
                                {
                                  "boundingBox": [
                                    454,
                                    622,
                                    603,
                                    614,
                                    605,
                                    679,
                                    454,
                                    690
                                  ],
                                  "text": "soon",
                                  "confidence": 0.985
                                },
                                {
                                  "boundingBox": [
                                    619,
                                    613,
                                    662,
                                    611,
                                    664,
                                    674,
                                    621,
                                    677
                                  ],
                                  "text": "!",
                                  "confidence": 0.559
                                }
                              ]
                            }
                          ],
                          "width": 1138
                        }
                      ]
                    }
                  }
                },
                {
                  "0": {
                    "status": "succeeded",
                    "createdDateTime": "2022-02-25T14:12:18Z",
                    "lastUpdatedDateTime": "2022-02-25T14:12:19Z",
                    "analyzeResult": {
                      "version": "3.0.0",
                      "readResults": [
                        {
                          "angle": 0.0518,
                          "page": 1,
                          "height": 480,
                          "unit": "pixel",
                          "lines": [
                            {
                              "boundingBox": [
                                34,
                                90,
                                582,
                                91,
                                582,
                                120,
                                34,
                                119
                              ],
                              "text": "This is a lot of 12 point text to test the",
                              "words": [
                                {
                                  "boundingBox": [
                                    34,
                                    90,
                                    98,
                                    90,
                                    98,
                                    118,
                                    35,
                                    116
                                  ],
                                  "text": "This",
                                  "confidence": 0.983
                                },
                                {
                                  "boundingBox": [
                                    103,
                                    90,
                                    130,
                                    90,
                                    131,
                                    119,
                                    103,
                                    118
                                  ],
                                  "text": "is",
                                  "confidence": 0.988
                                },
                                {
                                  "boundingBox": [
                                    136,
                                    90,
                                    158,
                                    90,
                                    158,
                                    119,
                                    136,
                                    119
                                  ],
                                  "text": "a",
                                  "confidence": 0.987
                                },
                                {
                                  "boundingBox": [
                                    163,
                                    90,
                                    202,
                                    90,
                                    203,
                                    120,
                                    163,
                                    119
                                  ],
                                  "text": "lot",
                                  "confidence": 0.987
                                },
                                {
                                  "boundingBox": [
                                    207,
                                    90,
                                    243,
                                    90,
                                    244,
                                    120,
                                    208,
                                    120
                                  ],
                                  "text": "of",
                                  "confidence": 0.988
                                },
                                {
                                  "boundingBox": [
                                    249,
                                    90,
                                    285,
                                    90,
                                    285,
                                    120,
                                    249,
                                    120
                                  ],
                                  "text": "12",
                                  "confidence": 0.988
                                },
                                {
                                  "boundingBox": [
                                    290,
                                    90,
                                    365,
                                    91,
                                    365,
                                    120,
                                    290,
                                    120
                                  ],
                                  "text": "point",
                                  "confidence": 0.986
                                },
                                {
                                  "boundingBox": [
                                    370,
                                    91,
                                    429,
                                    91,
                                    429,
                                    120,
                                    370,
                                    120
                                  ],
                                  "text": "text",
                                  "confidence": 0.986
                                },
                                {
                                  "boundingBox": [
                                    434,
                                    91,
                                    465,
                                    91,
                                    465,
                                    119,
                                    434,
                                    120
                                  ],
                                  "text": "to",
                                  "confidence": 0.988
                                },
                                {
                                  "boundingBox": [
                                    470,
                                    91,
                                    528,
                                    91,
                                    528,
                                    118,
                                    470,
                                    119
                                  ],
                                  "text": "test",
                                  "confidence": 0.983
                                },
                                {
                                  "boundingBox": [
                                    533,
                                    91,
                                    583,
                                    91,
                                    583,
                                    117,
                                    533,
                                    118
                                  ],
                                  "text": "the",
                                  "confidence": 0.987
                                }
                              ]
                            },
                            {
                              "boundingBox": [
                                34,
                                124,
                                620,
                                125,
                                620,
                                157,
                                34,
                                155
                              ],
                              "text": "ocr code and see if it works on all types",
                              "words": [
                                {
                                  "boundingBox": [
                                    35,
                                    126,
                                    80,
                                    126,
                                    79,
                                    154,
                                    34,
                                    154
                                  ],
                                  "text": "ocr",
                                  "confidence": 0.987
                                },
                                {
                                  "boundingBox": [
                                    85,
                                    126,
                                    163,
                                    125,
                                    162,
                                    153,
                                    85,
                                    154
                                  ],
                                  "text": "code",
                                  "confidence": 0.983
                                },
                                {
                                  "boundingBox": [
                                    168,
                                    125,
                                    226,
                                    125,
                                    225,
                                    153,
                                    168,
                                    153
                                  ],
                                  "text": "and",
                                  "confidence": 0.987
                                },
                                {
                                  "boundingBox": [
                                    231,
                                    125,
                                    287,
                                    124,
                                    287,
                                    153,
                                    231,
                                    153
                                  ],
                                  "text": "see",
                                  "confidence": 0.983
                                },
                                {
                                  "boundingBox": [
                                    292,
                                    124,
                                    314,
                                    125,
                                    314,
                                    153,
                                    292,
                                    153
                                  ],
                                  "text": "if",
                                  "confidence": 0.988
                                },
                                {
                                  "boundingBox": [
                                    319,
                                    125,
                                    339,
                                    125,
                                    339,
                                    154,
                                    319,
                                    153
                                  ],
                                  "text": "it",
                                  "confidence": 0.988
                                },
                                {
                                  "boundingBox": [
                                    345,
                                    125,
                                    437,
                                    125,
                                    436,
                                    155,
                                    345,
                                    154
                                  ],
                                  "text": "works",
                                  "confidence": 0.986
                                },
                                {
                                  "boundingBox": [
                                    442,
                                    125,
                                    485,
                                    125,
                                    485,
                                    155,
                                    442,
                                    155
                                  ],
                                  "text": "on",
                                  "confidence": 0.988
                                },
                                {
                                  "boundingBox": [
                                    496,
                                    125,
                                    532,
                                    126,
                                    532,
                                    156,
                                    496,
                                    155
                                  ],
                                  "text": "all",
                                  "confidence": 0.987
                                },
                                {
                                  "boundingBox": [
                                    537,
                                    126,
                                    620,
                                    127,
                                    620,
                                    158,
                                    537,
                                    156
                                  ],
                                  "text": "types",
                                  "confidence": 0.986
                                }
                              ]
                            },
                            {
                              "boundingBox": [
                                33,
                                158,
                                224,
                                158,
                                224,
                                186,
                                33,
                                186
                              ],
                              "text": "of file format.",
                              "words": [
                                {
                                  "boundingBox": [
                                    34,
                                    159,
                                    62,
                                    159,
                                    62,
                                    187,
                                    34,
                                    187
                                  ],
                                  "text": "of",
                                  "confidence": 0.983
                                },
                                {
                                  "boundingBox": [
                                    68,
                                    159,
                                    112,
                                    159,
                                    112,
                                    187,
                                    67,
                                    187
                                  ],
                                  "text": "file",
                                  "confidence": 0.987
                                },
                                {
                                  "boundingBox": [
                                    118,
                                    159,
                                    224,
                                    160,
                                    223,
                                    186,
                                    118,
                                    186
                                  ],
                                  "text": "format.",
                                  "confidence": 0.983
                                }
                              ]
                            },
                            {
                              "boundingBox": [
                                35,
                                192,
                                586,
                                192,
                                586,
                                224,
                                35,
                                223
                              ],
                              "text": "The quick brown dog jumped over the",
                              "words": [
                                {
                                  "boundingBox": [
                                    36,
                                    192,
                                    91,
                                    192,
                                    90,
                                    222,
                                    35,
                                    220
                                  ],
                                  "text": "The",
                                  "confidence": 0.983
                                },
                                {
                                  "boundingBox": [
                                    97,
                                    192,
                                    178,
                                    192,
                                    177,
                                    223,
                                    96,
                                    222
                                  ],
                                  "text": "quick",
                                  "confidence": 0.983
                                },
                                {
                                  "boundingBox": [
                                    183,
                                    192,
                                    277,
                                    192,
                                    276,
                                    225,
                                    182,
                                    224
                                  ],
                                  "text": "brown",
                                  "confidence": 0.986
                                },
                                {
                                  "boundingBox": [
                                    283,
                                    192,
                                    340,
                                    192,
                                    339,
                                    225,
                                    282,
                                    225
                                  ],
                                  "text": "dog",
                                  "confidence": 0.987
                                },
                                {
                                  "boundingBox": [
                                    345,
                                    192,
                                    460,
                                    192,
                                    459,
                                    224,
                                    345,
                                    225
                                  ],
                                  "text": "jumped",
                                  "confidence": 0.986
                                },
                                {
                                  "boundingBox": [
                                    465,
                                    192,
                                    531,
                                    192,
                                    531,
                                    223,
                                    464,
                                    224
                                  ],
                                  "text": "over",
                                  "confidence": 0.983
                                },
                                {
                                  "boundingBox": [
                                    537,
                                    192,
                                    587,
                                    192,
                                    586,
                                    222,
                                    536,
                                    223
                                  ],
                                  "text": "the",
                                  "confidence": 0.987
                                }
                              ]
                            },
                            {
                              "boundingBox": [
                                34,
                                226,
                                587,
                                226,
                                587,
                                258,
                                34,
                                257
                              ],
                              "text": "lazy fox. The quick brown dog jumped",
                              "words": [
                                {
                                  "boundingBox": [
                                    34,
                                    227,
                                    91,
                                    227,
                                    91,
                                    258,
                                    34,
                                    258
                                  ],
                                  "text": "lazy",
                                  "confidence": 0.986
                                },
                                {
                                  "boundingBox": [
                                    97,
                                    227,
                                    158,
                                    227,
                                    158,
                                    258,
                                    97,
                                    258
                                  ],
                                  "text": "fox.",
                                  "confidence": 0.942
                                },
                                {
                                  "boundingBox": [
                                    164,
                                    227,
                                    219,
                                    227,
                                    219,
                                    258,
                                    164,
                                    258
                                  ],
                                  "text": "The",
                                  "confidence": 0.988
                                },
                                {
                                  "boundingBox": [
                                    225,
                                    227,
                                    306,
                                    227,
                                    306,
                                    258,
                                    225,
                                    258
                                  ],
                                  "text": "quick",
                                  "confidence": 0.983
                                },
                                {
                                  "boundingBox": [
                                    312,
                                    227,
                                    403,
                                    227,
                                    403,
                                    258,
                                    312,
                                    258
                                  ],
                                  "text": "brown",
                                  "confidence": 0.986
                                },
                                {
                                  "boundingBox": [
                                    410,
                                    227,
                                    466,
                                    227,
                                    466,
                                    259,
                                    410,
                                    258
                                  ],
                                  "text": "dog",
                                  "confidence": 0.987
                                },
                                {
                                  "boundingBox": [
                                    472,
                                    227,
                                    586,
                                    227,
                                    586,
                                    259,
                                    472,
                                    259
                                  ],
                                  "text": "jumped",
                                  "confidence": 0.986
                                }
                              ]
                            },
                            {
                              "boundingBox": [
                                33,
                                260,
                                598,
                                260,
                                598,
                                291,
                                33,
                                291
                              ],
                              "text": "over the lazy fox. The quick brown dog",
                              "words": [
                                {
                                  "boundingBox": [
                                    34,
                                    263,
                                    99,
                                    262,
                                    99,
                                    291,
                                    34,
                                    291
                                  ],
                                  "text": "over",
                                  "confidence": 0.987
                                },
                                {
                                  "boundingBox": [
                                    104,
                                    262,
                                    152,
                                    261,
                                    152,
                                    291,
                                    104,
                                    291
                                  ],
                                  "text": "the",
                                  "confidence": 0.988
                                },
                                {
                                  "boundingBox": [
                                    158,
                                    261,
                                    221,
                                    261,
                                    221,
                                    291,
                                    158,
                                    291
                                  ],
                                  "text": "lazy",
                                  "confidence": 0.987
                                },
                                {
                                  "boundingBox": [
                                    226,
                                    261,
                                    289,
                                    260,
                                    289,
                                    291,
                                    226,
                                    291
                                  ],
                                  "text": "fox.",
                                  "confidence": 0.985
                                },
                                {
                                  "boundingBox": [
                                    295,
                                    260,
                                    350,
                                    260,
                                    350,
                                    291,
                                    294,
                                    291
                                  ],
                                  "text": "The",
                                  "confidence": 0.988
                                },
                                {
                                  "boundingBox": [
                                    356,
                                    260,
                                    437,
                                    260,
                                    436,
                                    291,
                                    355,
                                    291
                                  ],
                                  "text": "quick",
                                  "confidence": 0.983
                                },
                                {
                                  "boundingBox": [
                                    442,
                                    261,
                                    536,
                                    261,
                                    534,
                                    292,
                                    441,
                                    291
                                  ],
                                  "text": "brown",
                                  "confidence": 0.986
                                },
                                {
                                  "boundingBox": [
                                    541,
                                    261,
                                    599,
                                    262,
                                    597,
                                    292,
                                    540,
                                    292
                                  ],
                                  "text": "dog",
                                  "confidence": 0.987
                                }
                              ]
                            },
                            {
                              "boundingBox": [
                                42,
                                296,
                                564,
                                294,
                                564,
                                324,
                                42,
                                326
                              ],
                              "text": "jumped over the lazy fox. The quick",
                              "words": [
                                {
                                  "boundingBox": [
                                    43,
                                    296,
                                    152,
                                    296,
                                    151,
                                    326,
                                    42,
                                    327
                                  ],
                                  "text": "jumped",
                                  "confidence": 0.983
                                },
                                {
                                  "boundingBox": [
                                    158,
                                    296,
                                    222,
                                    296,
                                    222,
                                    326,
                                    157,
                                    326
                                  ],
                                  "text": "over",
                                  "confidence": 0.987
                                },
                                {
                                  "boundingBox": [
                                    228,
                                    296,
                                    279,
                                    295,
                                    278,
                                    326,
                                    228,
                                    326
                                  ],
                                  "text": "the",
                                  "confidence": 0.987
                                },
                                {
                                  "boundingBox": [
                                    285,
                                    295,
                                    345,
                                    295,
                                    345,
                                    326,
                                    284,
                                    326
                                  ],
                                  "text": "lazy",
                                  "confidence": 0.987
                                },
                                {
                                  "boundingBox": [
                                    351,
                                    295,
                                    414,
                                    295,
                                    413,
                                    326,
                                    351,
                                    326
                                  ],
                                  "text": "fox.",
                                  "confidence": 0.986
                                },
                                {
                                  "boundingBox": [
                                    420,
                                    295,
                                    474,
                                    295,
                                    474,
                                    325,
                                    420,
                                    326
                                  ],
                                  "text": "The",
                                  "confidence": 0.988
                                },
                                {
                                  "boundingBox": [
                                    480,
                                    295,
                                    563,
                                    295,
                                    563,
                                    325,
                                    480,
                                    325
                                  ],
                                  "text": "quick",
                                  "confidence": 0.986
                                }
                              ]
                            },
                            {
                              "boundingBox": [
                                34,
                                328,
                                561,
                                328,
                                561,
                                360,
                                34,
                                360
                              ],
                              "text": "brown dog jumped over the lazy fox.",
                              "words": [
                                {
                                  "boundingBox": [
                                    35,
                                    329,
                                    122,
                                    329,
                                    122,
                                    360,
                                    35,
                                    358
                                  ],
                                  "text": "brown",
                                  "confidence": 0.983
                                },
                                {
                                  "boundingBox": [
                                    127,
                                    329,
                                    186,
                                    329,
                                    186,
                                    361,
                                    128,
                                    360
                                  ],
                                  "text": "dog",
                                  "confidence": 0.983
                                },
                                {
                                  "boundingBox": [
                                    192,
                                    329,
                                    305,
                                    329,
                                    305,
                                    361,
                                    192,
                                    361
                                  ],
                                  "text": "jumped",
                                  "confidence": 0.986
                                },
                                {
                                  "boundingBox": [
                                    311,
                                    329,
                                    377,
                                    329,
                                    377,
                                    361,
                                    311,
                                    361
                                  ],
                                  "text": "over",
                                  "confidence": 0.983
                                },
                                {
                                  "boundingBox": [
                                    383,
                                    329,
                                    432,
                                    329,
                                    432,
                                    360,
                                    383,
                                    361
                                  ],
                                  "text": "the",
                                  "confidence": 0.987
                                },
                                {
                                  "boundingBox": [
                                    438,
                                    329,
                                    500,
                                    329,
                                    500,
                                    359,
                                    437,
                                    360
                                  ],
                                  "text": "lazy",
                                  "confidence": 0.987
                                },
                                {
                                  "boundingBox": [
                                    506,
                                    329,
                                    561,
                                    330,
                                    560,
                                    358,
                                    505,
                                    359
                                  ],
                                  "text": "fox.",
                                  "confidence": 0.984
                                }
                              ]
                            }
                          ],
                          "width": 640
                        }
                      ]
                    }
                  }
                }
              ],
              "schema": [
                {
                  "key": "0",
                  "name": "ocr",
                  "type": "StructType(StructField(status,StringType,true), StructField(createdDateTime,StringType,true), StructField(lastUpdatedDateTime,StringType,true), StructField(analyzeResult,StructType(StructField(version,StringType,true), StructField(readResults,ArrayType(StructType(StructField(page,IntegerType,true), StructField(language,StringType,true), StructField(angle,DoubleType,true), StructField(width,DoubleType,true), StructField(height,DoubleType,true), StructField(unit,StringType,true), StructField(lines,ArrayType(StructType(StructField(boundingBox,ArrayType(DoubleType,true),true), StructField(text,StringType,true), StructField(words,ArrayType(StructType(StructField(boundingBox,ArrayType(DoubleType,true),true), StructField(text,StringType,true), StructField(confidence,DoubleType,true)),true),true)),true),true)),true),true)),true))"
                }
              ],
              "truncated": false
            },
            "isSummary": false,
            "language": "scala"
          },
          "persist_state": {
            "view": {
              "type": "details",
              "tableOptions": {},
              "chartOptions": {
                "chartType": "bar",
                "aggregationType": "count",
                "categoryFieldKeys": [],
                "seriesFieldKeys": [
                  "0"
                ],
                "isStacked": false
              }
            }
          }
        },
        "936aa269-721d-44b5-917b-e5b7c473fd5a": {
          "type": "Synapse.DataFrame",
          "sync_state": {
            "table": {
              "rows": [
                {
                  "0": {
                    "requestId": "0e9abc11-c28d-4576-85a2-25a4764d924c",
                    "metadata": {
                      "width": 214,
                      "height": 317,
                      "format": "Jpeg"
                    },
                    "result": {
                      "celebrities": [
                        {
                          "name": "Leonardo DiCaprio",
                          "faceRectangle": {
                            "left": 21,
                            "top": 87,
                            "width": 117,
                            "height": 117
                          },
                          "confidence": 0.9997866749763489
                        }
                      ]
                    }
                  }
                }
              ],
              "schema": [
                {
                  "key": "0",
                  "name": "celebs",
                  "type": "StructType(StructField(requestId,StringType,true), StructField(metadata,StructType(StructField(width,IntegerType,true), StructField(height,IntegerType,true), StructField(format,StringType,true)),true), StructField(result,StructType(StructField(celebrities,ArrayType(StructType(StructField(name,StringType,true), StructField(faceRectangle,StructType(StructField(left,IntegerType,true), StructField(top,IntegerType,true), StructField(width,IntegerType,true), StructField(height,IntegerType,true)),true), StructField(confidence,DoubleType,true)),true),true), StructField(landmarks,ArrayType(StructType(StructField(name,StringType,true), StructField(confidence,DoubleType,true)),true),true)),true))"
                }
              ],
              "truncated": false
            },
            "isSummary": false,
            "language": "scala"
          },
          "persist_state": {
            "view": {
              "type": "details",
              "tableOptions": {},
              "chartOptions": {
                "chartType": "bar",
                "aggregationType": "count",
                "categoryFieldKeys": [],
                "seriesFieldKeys": [
                  "0"
                ],
                "isStacked": false
              }
            }
          }
        }
      }
    }
  },
  "nbformat": 4,
  "nbformat_minor": 2
}